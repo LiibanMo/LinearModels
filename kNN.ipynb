{
  "nbformat": 4,
  "nbformat_minor": 0,
  "metadata": {
    "colab": {
      "provenance": [],
      "authorship_tag": "ABX9TyNYPO5Oyq/6GEUg181bH3Oy",
      "include_colab_link": true
    },
    "kernelspec": {
      "name": "python3",
      "display_name": "Python 3"
    },
    "language_info": {
      "name": "python"
    }
  },
  "cells": [
    {
      "cell_type": "markdown",
      "metadata": {
        "id": "view-in-github",
        "colab_type": "text"
      },
      "source": [
        "<a href=\"https://colab.research.google.com/github/LiibanMo/LinearModels/blob/main/kNN.ipynb\" target=\"_parent\"><img src=\"https://colab.research.google.com/assets/colab-badge.svg\" alt=\"Open In Colab\"/></a>"
      ]
    },
    {
      "cell_type": "code",
      "execution_count": 68,
      "metadata": {
        "id": "nkD8AeRqdLxx"
      },
      "outputs": [],
      "source": [
        "from abc import ABC, abstractmethod\n",
        "from typing import Self\n",
        "import numpy as np\n",
        "import matplotlib.pyplot as plt\n",
        "from sklearn.model_selection import train_test_split"
      ]
    },
    {
      "cell_type": "code",
      "source": [
        "class kNN_Model(ABC):\n",
        "    @abstractmethod\n",
        "    def fit(self, X:np.ndarray, y:np.ndarray) -> Self:\n",
        "        pass\n",
        "\n",
        "    @abstractmethod\n",
        "    def predict(self, X:np.ndarray) -> np.ndarray:\n",
        "        pass"
      ],
      "metadata": {
        "id": "SnI0Skx-1yE7"
      },
      "execution_count": 69,
      "outputs": []
    },
    {
      "cell_type": "code",
      "source": [
        "class kNeighboursRegressor(kNN_Model):\n",
        "    def __init__(self, k:int=3):\n",
        "        self.k = k\n",
        "\n",
        "    def fit(self, X:np.ndarray, y:np.ndarray) -> Self:\n",
        "        self._X = X.astype(np.float32)\n",
        "        self._y = y.astype(np.float32)\n",
        "        return self\n",
        "\n",
        "    def predict(self, X:np.ndarray) -> np.ndarray:\n",
        "        if X.shape[1] != self._X.shape[1]:\n",
        "            raise ValueError(f\"Number of features of test data ({X.shape[1]}) should be equal to features in training data ({self._X.shape[1]}).\")\n",
        "\n",
        "        y_pred = np.zeros(X.shape[0])\n",
        "\n",
        "        for idx, x in enumerate(X):\n",
        "            l2_dists = np.linalg.norm(x - self._X, axis=1)\n",
        "            new_permutation = np.argsort(l2_dists)\n",
        "            ordered_dists = np.sort(l2_dists)\n",
        "            ordered_observations = self._y[new_permutation[:self.k]]\n",
        "            y_pred[idx] = ordered_observations.sum() / self.k\n",
        "\n",
        "        return y_pred"
      ],
      "metadata": {
        "id": "xOkKXwH7u1-b"
      },
      "execution_count": 70,
      "outputs": []
    },
    {
      "cell_type": "code",
      "source": [
        "class kNeighboursClassifier(kNN_Model):\n",
        "    def __init__(self, k:int=3):\n",
        "        self.k = k\n",
        "\n",
        "    def fit(self, X:np.ndarray, y:np.ndarray) -> Self:\n",
        "        self._X = X\n",
        "        self._y = y\n",
        "\n",
        "    def predict(self, X:np.ndarray) -> np.ndarray:\n",
        "        if X.shape[1] != self._X.shape[1]:\n",
        "            raise ValueError(f\"Number of features of test data ({X.shape[1]}) should be equal to features in training data ({self._X.shape[1]}).\")\n",
        "\n",
        "        y_pred = np.zeros(X.shape[0])\n",
        "\n",
        "        def np_mode(array:np.ndarray) -> np.ndarray:\n",
        "            # FINISH\n",
        "            pass\n",
        "\n",
        "        for idx, x in enumerate(X):\n",
        "            l2_dists = np.linalg.norm(x - self._X)\n",
        "            new_permutation = np.argsort(l2_dists)\n",
        "            ordered_dists = np.sort(l2_dists)\n",
        "            ordered_observations = self._y[new_permutation[:self.k]]\n",
        "            y_pred[idx] = None # FINISH\n",
        "\n",
        "        return y_pred"
      ],
      "metadata": {
        "id": "hW6dLl71Z_mw"
      },
      "execution_count": 71,
      "outputs": []
    },
    {
      "cell_type": "code",
      "source": [
        "np.random.seed(12)\n",
        "TOTAL = 100\n",
        "FEATURES = 1\n",
        "TEST_SIZE = int(0.2 * TOTAL)\n",
        "RANDOM_STATE = 123\n",
        "\n",
        "X = np.linspace(0, 10, TOTAL*FEATURES).reshape(TOTAL, FEATURES)\n",
        "y = X**2 + 4 * X + 3 + 10 * np.random.normal(0, 1)\n",
        "\n",
        "X_train, X_test, y_train, y_test = train_test_split(X, y, test_size=TEST_SIZE, random_state=RANDOM_STATE, shuffle=True)"
      ],
      "metadata": {
        "id": "q6Ejxjg0yAcv"
      },
      "execution_count": 72,
      "outputs": []
    },
    {
      "cell_type": "code",
      "source": [
        "model = kNeighboursRegressor()\n",
        "fitted_model = model.fit(X_train, y_train)\n",
        "y_pred = fitted_model.predict(X_test)\n",
        "\n",
        "plt.scatter(X_train, y_train, c=\"blue\", label=\"Train\")\n",
        "plt.scatter(X_test, y_test, c=\"orange\", label=\"Tests\")\n",
        "plt.scatter(X_test, y_pred, c=\"red\", label=\"Predictions\")\n",
        "plt.legend()\n",
        "plt.show()"
      ],
      "metadata": {
        "colab": {
          "base_uri": "https://localhost:8080/",
          "height": 430
        },
        "id": "LJGDFonsFBjA",
        "outputId": "ee8f6abd-2646-4a8d-816d-0e6f5e7f0084"
      },
      "execution_count": 73,
      "outputs": [
        {
          "output_type": "display_data",
          "data": {
            "text/plain": [
              "<Figure size 640x480 with 1 Axes>"
            ],
            "image/png": "[encoded data removed]"
          },
          "metadata": {}
        }
      ]
    }
  ]
}